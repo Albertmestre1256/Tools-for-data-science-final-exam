{
 "cells": [
  {
   "cell_type": "markdown",
   "id": "33940642-537c-47af-8957-d883d94b0de0",
   "metadata": {},
   "source": [
    "# **Final Exam Tools for Data Science**\n",
    "![Image](https://i.pinimg.com/736x/5a/7d/c7/5a7dc73e4f0959c31439b16e585aafc8.jpg)"
   ]
  },
  {
   "cell_type": "markdown",
   "id": "4a7e3905-665e-46f5-86d0-bc2cd5a51c3c",
   "metadata": {},
   "source": [
    "### Introduction\n",
    "###### I don´t know what i'm doing. I'm just vibbin'"
   ]
  },
  {
   "cell_type": "markdown",
   "id": "343d9852-a877-4270-8a5f-75c3ef9f75ee",
   "metadata": {},
   "source": [
    "# Data Science languages\n",
    "1. SQL\n",
    "2. PYTHON\n",
    "3. JULIA\n",
    "4. R\n",
    "5. Scala"
   ]
  },
  {
   "cell_type": "markdown",
   "id": "b5a84f3c-8206-4db1-9613-221a7bf7988d",
   "metadata": {},
   "source": [
    "# Data Science Libraries\n",
    "1. NumPy\n",
    "2. Pandas\n",
    "3. Matplotlib\n",
    "4. Seaborn\n",
    "5. Scikit"
   ]
  },
  {
   "cell_type": "markdown",
   "id": "34bacc8d-10b8-4dd3-9d92-c2f2d3e8a7e7",
   "metadata": {},
   "source": [
    "# Data Science Tools\n",
    "1. Python\n",
    "2. R\n",
    "3. SQL\n",
    "4. Pandas\n",
    "5. NumPy\n",
    "6. Excel\n",
    "7. Matplotlib"
   ]
  },
  {
   "cell_type": "markdown",
   "id": "5cd6c840-ae94-4e1b-9380-b1b7f6b163ec",
   "metadata": {},
   "source": [
    "# Arithmetic expression examples"
   ]
  },
  {
   "cell_type": "code",
   "execution_count": 7,
   "id": "ba71e0de-1d3d-4701-978a-5645a60e0491",
   "metadata": {},
   "outputs": [
    {
     "name": "stdout",
     "output_type": "stream",
     "text": [
      "13\n"
     ]
    }
   ],
   "source": [
    "a = 10\n",
    "b = 3\n",
    "d= 50\n",
    "result_add = a + b\n",
    "print(a + b)"
   ]
  },
  {
   "cell_type": "markdown",
   "id": "25ad8d99-b092-45c0-8d51-d94a3c84a0a1",
   "metadata": {},
   "source": [
    "# Multiply and add Numbers"
   ]
  },
  {
   "cell_type": "code",
   "execution_count": 8,
   "id": "7b0a64d6-4e6c-4a3b-9e30-65bb536fd13c",
   "metadata": {},
   "outputs": [
    {
     "data": {
      "text/plain": [
       "3"
      ]
     },
     "execution_count": 8,
     "metadata": {},
     "output_type": "execute_result"
    }
   ],
   "source": [
    "1 + 2"
   ]
  },
  {
   "cell_type": "code",
   "execution_count": 9,
   "id": "e32e3dbd-2982-4ffd-88f0-02d2786cec78",
   "metadata": {},
   "outputs": [
    {
     "data": {
      "text/plain": [
       "15"
      ]
     },
     "execution_count": 9,
     "metadata": {},
     "output_type": "execute_result"
    }
   ],
   "source": [
    "3 * 5"
   ]
  },
  {
   "cell_type": "code",
   "execution_count": 10,
   "id": "e914b542-acfd-4217-9103-af681931ef73",
   "metadata": {},
   "outputs": [
    {
     "data": {
      "text/plain": [
       "10.0"
      ]
     },
     "execution_count": 10,
     "metadata": {},
     "output_type": "execute_result"
    }
   ],
   "source": [
    "100 / 10"
   ]
  },
  {
   "cell_type": "markdown",
   "id": "b7059943-0fcc-4784-a786-8515a0d77e10",
   "metadata": {},
   "source": [
    "# Minutes to hours"
   ]
  },
  {
   "cell_type": "code",
   "execution_count": 12,
   "id": "2535d92b-47ae-46de-b05e-da7c395ef7f3",
   "metadata": {},
   "outputs": [
    {
     "name": "stdout",
     "output_type": "stream",
     "text": [
      "1.0\n"
     ]
    }
   ],
   "source": [
    "minutes = 60\n",
    "hours = minutes / 60\n",
    "print(hours)"
   ]
  },
  {
   "cell_type": "markdown",
   "id": "83c687a7-a412-45c5-90d8-bd3b490d14a1",
   "metadata": {},
   "source": [
    "# List objectives\n",
    "1. Eat\n",
    "2. Laugh\n",
    "3. Live"
   ]
  },
  {
   "cell_type": "markdown",
   "id": "aba0c54e-2945-40e8-9359-0247c82f5477",
   "metadata": {},
   "source": [
    "# This thing was made by Albert\n",
    "![hey](https://upload.wikimedia.org/wikipedia/commons/thumb/e/ea/Thats_all_folks.svg/960px-Thats_all_folks.svg.png?20150104034840)"
   ]
  }
 ],
 "metadata": {
  "kernelspec": {
   "display_name": "Python 3 (ipykernel)",
   "language": "python",
   "name": "python3"
  },
  "language_info": {
   "codemirror_mode": {
    "name": "ipython",
    "version": 3
   },
   "file_extension": ".py",
   "mimetype": "text/x-python",
   "name": "python",
   "nbconvert_exporter": "python",
   "pygments_lexer": "ipython3",
   "version": "3.13.5"
  }
 },
 "nbformat": 4,
 "nbformat_minor": 5
}
